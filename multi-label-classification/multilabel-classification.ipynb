{
  "nbformat": 4,
  "nbformat_minor": 0,
  "metadata": {
    "colab": {
      "name": "code.ipynb",
      "provenance": [],
      "collapsed_sections": [
        "iQE_JX_15E6i"
      ],
      "toc_visible": true
    },
    "kernelspec": {
      "name": "python3",
      "display_name": "Python 3"
    },
    "accelerator": "GPU"
  },
  "cells": [
    {
      "cell_type": "markdown",
      "metadata": {
        "id": "uHEjUJu9_vGd"
      },
      "source": [
        "## Exploring the dataset"
      ]
    },
    {
      "cell_type": "code",
      "metadata": {
        "id": "_CYO2xmQ5Sr3"
      },
      "source": [
        "import numpy as np\n",
        "from zipfile import ZipFile\n",
        "import h5py\n",
        "import matplotlib.pyplot as plt\n",
        "import cv2\n",
        "from sklearn.utils import shuffle\n",
        "import torch\n",
        "import torchvision\n",
        "import torchvision.transforms as transforms\n",
        "import matplotlib.pyplot as plt\n",
        "import numpy as np\n",
        "import torch.nn as nn\n",
        "import torch.nn.functional as F\n",
        "import torch.optim as optim\n",
        "import csv\n",
        "import pandas as pd"
      ],
      "execution_count": null,
      "outputs": []
    },
    {
      "cell_type": "code",
      "metadata": {
        "id": "9lCIIrVz67GP"
      },
      "source": [
        "with ZipFile('MNIST_synthetic.zip', 'r') as zipObj:\n",
        "  zipObj.extractall()"
      ],
      "execution_count": null,
      "outputs": []
    },
    {
      "cell_type": "code",
      "metadata": {
        "colab": {
          "base_uri": "https://localhost:8080/"
        },
        "id": "yYhpuU-07A-6",
        "outputId": "3069dc31-8483-4a98-b842-813fb18014ff"
      },
      "source": [
        "hf = h5py.File('MNIST_synthetic.h5', 'r')\n",
        "hf.keys()"
      ],
      "execution_count": null,
      "outputs": [
        {
          "output_type": "execute_result",
          "data": {
            "text/plain": [
              "<KeysViewHDF5 ['test_dataset', 'train_dataset', 'train_labels']>"
            ]
          },
          "metadata": {
            "tags": []
          },
          "execution_count": 8
        }
      ]
    },
    {
      "cell_type": "code",
      "metadata": {
        "colab": {
          "base_uri": "https://localhost:8080/",
          "height": 302
        },
        "id": "RhCpKvZw9jAF",
        "outputId": "1af4325e-1086-4809-ce01-3c5087f630ac"
      },
      "source": [
        "test_data = hf.get('test_dataset')\n",
        "train_data = hf.get('train_dataset')\n",
        "train_labels = hf.get('train_labels')\n",
        "\n",
        "## np.squeeze removes all elements of the dataset that are 1-dimensional \n",
        "test_data = np.squeeze(np.asarray(test_data))\n",
        "train_data = np.squeeze(np.asarray(train_data))\n",
        "train_labels = np.squeeze(np.asarray(train_labels))\n",
        "\n",
        "#Normalize the data\n",
        "#train_data = train_data / 255\n",
        "#test_data = test_data / 255\n",
        "\n",
        "## flattening each row into a 1D array of length 4096 \n",
        "flattened_train = []\n",
        "for i in train_data:\n",
        "  flattened_train.append(np.reshape(i, -1))\n",
        "\n",
        "flattened_train = np.asarray(flattened_train)\n",
        "print(flattened_train.shape)\n",
        "plt.imshow(np.reshape(flattened_train[0], (64,64)))"
      ],
      "execution_count": null,
      "outputs": [
        {
          "output_type": "stream",
          "text": [
            "(56000, 4096)\n"
          ],
          "name": "stdout"
        },
        {
          "output_type": "execute_result",
          "data": {
            "text/plain": [
              "<matplotlib.image.AxesImage at 0x7f151b0365c0>"
            ]
          },
          "metadata": {
            "tags": []
          },
          "execution_count": 9
        },
        {
          "output_type": "display_data",
          "data": {
            "image/png": "[encoded data removed]",
            "text/plain": [
              "<Figure size 432x288 with 1 Axes>"
            ]
          },
          "metadata": {
            "tags": [],
            "needs_background": "light"
          }
        }
      ]
    },
    {
      "cell_type": "code",
      "metadata": {
        "colab": {
          "base_uri": "https://localhost:8080/",
          "height": 336
        },
        "id": "dFJO1bU59mEc",
        "outputId": "eaadb71c-6fd8-4525-8201-c7e6e6fc8c6b"
      },
      "source": [
        "print(train_data.shape)\n",
        "print(train_labels.shape)\n",
        "print(train_labels[0])\n",
        "plt.imshow(train_data[0])"
      ],
      "execution_count": null,
      "outputs": [
        {
          "output_type": "stream",
          "text": [
            "(56000, 64, 64)\n",
            "(56000, 5)\n",
            "[ 8  5  0  3 10]\n"
          ],
          "name": "stdout"
        },
        {
          "output_type": "execute_result",
          "data": {
            "text/plain": [
              "<matplotlib.image.AxesImage at 0x7f151adcca20>"
            ]
          },
          "metadata": {
            "tags": []
          },
          "execution_count": 10
        },
        {
          "output_type": "display_data",
          "data": {
            "image/png": "[encoded data removed]",
            "text/plain": [
              "<Figure size 432x288 with 1 Axes>"
            ]
          },
          "metadata": {
            "tags": [],
            "needs_background": "light"
          }
        }
      ]
    },
    {
      "cell_type": "markdown",
      "metadata": {
        "id": "t869NRcIXmYN"
      },
      "source": [
        "#Image Segmentation"
      ]
    },
    {
      "cell_type": "markdown",
      "metadata": {
        "id": "iQE_JX_15E6i"
      },
      "source": [
        "##This is a practice example showing how we could segment the image and reassign the labels. We can make this into a general function"
      ]
    },
    {
      "cell_type": "code",
      "metadata": {
        "colab": {
          "base_uri": "https://localhost:8080/",
          "height": 147
        },
        "id": "hrvAyL2YHB7B",
        "outputId": "994ba6e7-6f3e-4bb4-8487-0ae048edeeac"
      },
      "source": [
        "plt.figure(figsize=(10,10))\n",
        "plt.subplot(1,5,1)\n",
        "plt.imshow(train_data[9])\n",
        "\n",
        "plt.subplot(1,5,2)\n",
        "plt.imshow(train_data[26])\n",
        "\n",
        "plt.subplot(1,5,3)\n",
        "plt.imshow(train_data[5])\n",
        "\n",
        "plt.subplot(1,5,4)\n",
        "plt.imshow(train_data[7])\n",
        "\n",
        "plt.subplot(1,5,5)\n",
        "plt.imshow(train_data[2])\n",
        "\n",
        "plt.show()"
      ],
      "execution_count": null,
      "outputs": [
        {
          "output_type": "display_data",
          "data": {
            "image/png": "[encoded data removed]",
            "text/plain": [
              "<Figure size 720x720 with 5 Axes>"
            ]
          },
          "metadata": {
            "tags": [],
            "needs_background": "light"
          }
        }
      ]
    },
    {
      "cell_type": "markdown",
      "metadata": {
        "id": "iTMcwEcQYuxE"
      },
      "source": [
        "##Hardcoded Method\n",
        "The hardcoded method can be used when you have labels with your data as the labels are used to determine the number of cuts to make. This works because all images with the same number of digits have the digits in the same locations. So all 3 digit photos have the 3 digits in the same spot, etc. "
      ]
    },
    {
      "cell_type": "markdown",
      "metadata": {
        "id": "RuADJ8DcKQcc"
      },
      "source": [
        ""
      ]
    },
    {
      "cell_type": "code",
      "metadata": {
        "colab": {
          "base_uri": "https://localhost:8080/",
          "height": 126
        },
        "id": "MUna3PU6Ybdd",
        "outputId": "f90f23a4-1ba2-4e1c-a6bc-7232342bd8df"
      },
      "source": [
        "#Better image splitter that does not rely on contours... less processing-- need a label tho so only for training\n",
        "def imageSegment(images, labels):\n",
        "  labelCount = 0\n",
        "  for l in labels:\n",
        "    if l != 10: labelCount += 1\n",
        "\n",
        "  segmentedImages = []\n",
        "  testLabels = []\n",
        "\n",
        "  if labelCount == 1:\n",
        "    segmentedImages.append(cv2.resize(images[24:39, 24:39], (18,18)))\n",
        "\n",
        "  if labelCount == 2:\n",
        "    segmentedImages.append(cv2.resize(images[24:39, 19:32], (18,18)))\n",
        "    segmentedImages.append(cv2.resize(images[24:39, 33:45], (18,18)))\n",
        "\n",
        "  if labelCount == 3:\n",
        "    segmentedImages.append(cv2.resize(images[24:39, 15:25], (18,18)))\n",
        "    segmentedImages.append(cv2.resize(images[24:39, 25:38], (18,18)))\n",
        "    segmentedImages.append(cv2.resize(images[24:39, 38:51], (18,18)))\n",
        "\n",
        "  if labelCount == 4:\n",
        "    segmentedImages.append(cv2.resize(images[24:39, 8:20], (18,18)))\n",
        "    segmentedImages.append(cv2.resize(images[24:39, 20:32], (18,18)))\n",
        "    segmentedImages.append(cv2.resize(images[24:39, 32:44], (18,18)))\n",
        "    segmentedImages.append(cv2.resize(images[24:39, 44:56], (18,18)))\n",
        "\n",
        "  if labelCount == 5:\n",
        "    segmentedImages.append(cv2.resize(images[24:39, 2:14], (18,18)))\n",
        "    segmentedImages.append(cv2.resize(images[24:39, 14:26], (18,18)))\n",
        "    segmentedImages.append(cv2.resize(images[24:39, 26:38], (18,18)))\n",
        "    segmentedImages.append(cv2.resize(images[24:39, 38:50], (18,18)))\n",
        "    segmentedImages.append(cv2.resize(images[24:39, 50:62], (18,18)))\n",
        "\n",
        "  #Put the labels back in order\n",
        "  for j in range(labelCount):\n",
        "    testLabels.append(labels[j])\n",
        "\n",
        "  #Padding to make the image format closer to the test method where we have to use contours\n",
        "  for j in range(len(segmentedImages)):\n",
        "    segmentedImages[j] = np.pad(segmentedImages[j], ((5,5),(5,5)), \"constant\", constant_values = 0)\n",
        "\n",
        "  return segmentedImages, testLabels\n",
        "  \n",
        "testImage, testLabels = imageSegment(train_data[2], train_labels[2])\n",
        "print(testLabels)\n",
        "plt.subplot(1,5,1)\n",
        "plt.imshow(testImage[0])\n",
        "plt.subplot(1,5,2)\n",
        "plt.imshow(testImage[1])\n",
        "plt.subplot(1,5,3)\n",
        "plt.imshow(testImage[2])\n",
        "plt.subplot(1,5,4)\n",
        "plt.imshow(testImage[3])\n",
        "plt.subplot(1,5,5)\n",
        "plt.imshow(testImage[4])\n",
        "plt.show()"
      ],
      "execution_count": null,
      "outputs": [
        {
          "output_type": "stream",
          "text": [
            "[1, 7, 9, 1, 8]\n"
          ],
          "name": "stdout"
        },
        {
          "output_type": "display_data",
          "data": {
            "image/png": "[encoded data removed]",
            "text/plain": [
              "<Figure size 432x288 with 5 Axes>"
            ]
          },
          "metadata": {
            "tags": [],
            "needs_background": "light"
          }
        }
      ]
    },
    {
      "cell_type": "markdown",
      "metadata": {
        "id": "cGC0t2uWYyDw"
      },
      "source": [
        "##CV2 Contour Method\n",
        "The contour method can be used when you do NOT have labels with your data. This splits using the cv2 contour function to determine zones where digits might be likely in the image. Unfortunately it doesn't work super well and the cuts are not always good cuts. There is some error checking, but this is only applicable if you plan on training with this data. When you are training, if the sign is positive it means that we detected a potentially invalid number of cuts. So we have the option of discarding that photo from the training set as the labels might not match the digit OR images may not even be of the digits but rather a corner of a digit or something. "
      ]
    },
    {
      "cell_type": "code",
      "metadata": {
        "id": "TAD_5OjC5zKY"
      },
      "source": [
        "#Used on the test data where we have no labels\n",
        "#A general function to segment the images\n",
        "#Takes in one original image (with up to 5 digits) with the corresponding label \n",
        "#Return a number of images equal to the number of digits with new corresponding labels for each image\n",
        "\n",
        "def imageSegmentTest(images, labels):\n",
        "  #Because the image passed in is a numpy array and we want to work with a cv2 image, we write and read it\n",
        "  #If we can think of a better way to convert the numpy array to a cv2 image that would work better\n",
        "  cv2.imwrite('test_image.jpg', images)\n",
        "  images = cv2.imread('test_image.jpg')\n",
        "  gray_image = cv2.cvtColor(images.copy(), cv2.COLOR_BGR2GRAY)\n",
        "  #blur = cv2.GaussianBlur(gray_image, (3,3), 0)\n",
        "  ret, thresh = cv2.threshold(gray_image.copy(), 75, 255, cv2.THRESH_BINARY)\n",
        "  tempContours, _ = cv2.findContours(thresh.copy(), cv2.RETR_EXTERNAL, cv2.CHAIN_APPROX_SIMPLE)\n",
        "\n",
        "  x_pos = []\n",
        "  preprocessed_digits = []\n",
        "\n",
        "  #Check that the number of counters is not > 5. We only have 5 digits at most so if we have\n",
        "  #more than 5 counters there was an error\n",
        "  #We also count the number of non10 digits in the label\n",
        "  count = 0\n",
        "  for i in range(5):\n",
        "    if labels[i] != 10: count += 1\n",
        "\n",
        "  contours = []\n",
        "  for i in range(len(tempContours)):\n",
        "    if cv2.contourArea(tempContours[i]) != 0: contours.append(tempContours[i])\n",
        "    #print(cv2.contourArea(tempContours[i]))\n",
        "\n",
        "  if len(contours) == 0: contours = tempContours\n",
        "\n",
        "  sign = False\n",
        "\n",
        "  length = len(contours)\n",
        "  if length > 5: \n",
        "    length = 5\n",
        "    sign = True\n",
        "\n",
        "  if length != count: sign = True\n",
        "\n",
        "\n",
        "  for i in range(length):\n",
        "    x,y,w,h = cv2.boundingRect(contours[i])\n",
        "\n",
        "    #Crop the digit corresponding the current countour\n",
        "    digit = thresh[y-2:y+h+2, x-2:x+w+2]\n",
        "\n",
        "    #Resize the digit to 18,18\n",
        "    # Christina changed this code \n",
        "    resized_digit = cv2.resize(digit, (28,28))\n",
        "\n",
        "    # #Add Padding to make digit size 28,28\n",
        "    # padded_digit = np.pad(resized_digit, ((5,5),(5,5)), \"constant\", constant_values = 0)\n",
        "\n",
        "    #Add the new digit to the preprocessed digit array\n",
        "    #preprocessed_digits.append(padded_digit)\n",
        "    preprocessed_digits.append(resized_digit)\n",
        "\n",
        "    #Save x position to organize array later\n",
        "    x_pos.append(x)\n",
        "  \n",
        "\n",
        "  #Given the x_positions sort the labels\n",
        "  new_labels = [0]*length\n",
        "\n",
        "  #Find the min_index(leftmost digit), update label, repeat\n",
        "  for i in range(length):\n",
        "    index = np.argmin(x_pos)\n",
        "    new_labels[index] = labels[i]\n",
        "    #Set the updated position to 65 so we dont repeat this digit (image size is 64x64)\n",
        "    x_pos[index] = 65\n",
        "\n",
        "  return (preprocessed_digits, new_labels, sign)"
      ],
      "execution_count": null,
      "outputs": []
    },
    {
      "cell_type": "markdown",
      "metadata": {
        "id": "FPnpLUkQ5rfv"
      },
      "source": [
        "#Initial Image Pre-Processing\n",
        "\n",
        "\n"
      ]
    },
    {
      "cell_type": "markdown",
      "metadata": {
        "id": "CLUtrTmEYMLb"
      },
      "source": [
        "## Hardcoded image segment for train data\n",
        "Cuts all the digits out of every photo and combines it into one long array. Labels get changed to 1 label per image since we now only have 1 digit per image. Only good for training."
      ]
    },
    {
      "cell_type": "code",
      "metadata": {
        "colab": {
          "base_uri": "https://localhost:8080/"
        },
        "id": "gQEHrul771Sa",
        "outputId": "9bc456a9-0856-4086-b878-ec1bd16d0c90"
      },
      "source": [
        "#We will combine the inputs/labels of the entire dataset\n",
        "#We will first segment the images then create a new dataset with the individual images\n",
        "trainer_set_images = []\n",
        "trainer_set_labels = []\n",
        "\n",
        "#Start combining train_data and train_labels\n",
        "for i in range(len(train_data)):\n",
        "  temp_images, temp_labels = imageSegment(train_data[i], train_labels[i])\n",
        "  #We use extend instead of append so we append each individual item rather than the total sets\n",
        "  trainer_set_images.extend(temp_images)\n",
        "  trainer_set_labels.extend(temp_labels)\n",
        "\n",
        "print(\"We have \"+str(len(trainer_set_images))+\" images, and \"+str(len(trainer_set_labels))+\" labels. There were \"+str(len(train_data))+\" original image sets.\")"
      ],
      "execution_count": null,
      "outputs": [
        {
          "output_type": "stream",
          "text": [
            "We have 167886 images, and 167886 labels. There were 56000 original image sets.\n"
          ],
          "name": "stdout"
        }
      ]
    },
    {
      "cell_type": "markdown",
      "metadata": {
        "id": "wwyXWPrW5kDf"
      },
      "source": [
        "##CV2 Contour Method for test data\n",
        "Cuts all the digits out of every photo and combines it into one long array. Labels get changed to 1 label per image since we now only have 1 digit per image. Good for training and testing but not as reliable as the hardcoded method. "
      ]
    },
    {
      "cell_type": "code",
      "metadata": {
        "id": "UwiSTEGokAuD",
        "colab": {
          "base_uri": "https://localhost:8080/"
        },
        "outputId": "d5ec3a79-a969-4c2a-f28a-2b358968977b"
      },
      "source": [
        "#We will combine the inputs/labels of the entire dataset\n",
        "#We will first segment the images then create a new dataset with the individual images\n",
        "trainer_set_images = []\n",
        "trainer_set_labels = []\n",
        "count = 0\n",
        "errorImages = []\n",
        "errorLabels = []\n",
        "errorIndex = []\n",
        "\n",
        "#Start combining train_data and train_labels\n",
        "for i in range(len(train_data)):\n",
        "  temp_images, temp_labels, sign = imageSegmentTest(train_data[i], train_labels[i])\n",
        "  if sign == True: \n",
        "    count += 1\n",
        "    errorImages.extend(temp_images)\n",
        "    errorLabels.extend(temp_labels)\n",
        "    errorIndex.append(i)\n",
        "  else:\n",
        "    #We use extend instead of append so we append each individual item rather than the total sets\n",
        "    trainer_set_images.extend(temp_images)\n",
        "    trainer_set_labels.extend(temp_labels)\n",
        "\n",
        "print(\"We have \"+str(len(trainer_set_images))+\" images, and \"+str(len(trainer_set_labels))+\" labels. There were \"+str(count)+\" bad contours out of \"+str(len(train_data))+\" original image sets.\")"
      ],
      "execution_count": null,
      "outputs": [
        {
          "output_type": "stream",
          "text": [
            "We have 159851 images, and 159851 labels. There were 2159 bad contours out of 56000 original image sets.\n"
          ],
          "name": "stdout"
        }
      ]
    },
    {
      "cell_type": "code",
      "metadata": {
        "colab": {
          "base_uri": "https://localhost:8080/",
          "height": 304
        },
        "id": "uwItUQLoZ0KC",
        "outputId": "d70a397e-ae7c-404b-b6a7-143774e289be"
      },
      "source": [
        "plt.figure(figsize=(10,10))\n",
        "plt.subplot(1,2,1)\n",
        "plt.imshow(errorImages[9])\n",
        "\n",
        "plt.subplot(1,2,2)\n",
        "plt.imshow(train_data[errorIndex[1]])\n",
        "\n",
        "plt.show()\n",
        "\n",
        "temp_images, temp_labels, sign = imageSegmentTest(train_data[errorIndex[1]], train_labels[errorIndex[1]])"
      ],
      "execution_count": null,
      "outputs": [
        {
          "output_type": "display_data",
          "data": {
            "image/png": "[encoded data removed]",
            "text/plain": [
              "<Figure size 720x720 with 2 Axes>"
            ]
          },
          "metadata": {
            "tags": [],
            "needs_background": "light"
          }
        }
      ]
    },
    {
      "cell_type": "code",
      "metadata": {
        "colab": {
          "base_uri": "https://localhost:8080/",
          "height": 282
        },
        "id": "HhvMAZDvfm2i",
        "outputId": "c4ecb724-a8b8-44da-da85-ed6acd589ddd"
      },
      "source": [
        "plt.imshow(trainer_set_images[0])\n",
        "print(trainer_set_labels[0])"
      ],
      "execution_count": null,
      "outputs": [
        {
          "output_type": "stream",
          "text": [
            "5\n"
          ],
          "name": "stdout"
        },
        {
          "output_type": "display_data",
          "data": {
            "image/png": "[encoded data removed]",
            "text/plain": [
              "<Figure size 432x288 with 1 Axes>"
            ]
          },
          "metadata": {
            "tags": [],
            "needs_background": "light"
          }
        }
      ]
    },
    {
      "cell_type": "markdown",
      "metadata": {
        "id": "NwZ-4KSKCV4G"
      },
      "source": [
        "#PreProcessing\n"
      ]
    },
    {
      "cell_type": "code",
      "metadata": {
        "id": "sQXK5dYXCXsS"
      },
      "source": [
        "def crossValidationFold(data, target):\n",
        "  size = len(data)\n",
        "  fold_size = int(size/5)\n",
        "\n",
        "  #Create folds by splitting datset evenly. The return will be a tuple of (data, target)\n",
        "  fold1 = data[0:fold_size], target[0:fold_size]\n",
        "  fold2 = data[(fold_size+1):(fold_size*2)], target[(fold_size+1):(fold_size*2)]\n",
        "  fold3 = data[(fold_size*2 + 1):(fold_size*3)], target[(fold_size*2 + 1):(fold_size*3)]\n",
        "  fold4 = data[(fold_size*3 + 1):(fold_size*4)], target[(fold_size*3 + 1):(fold_size*4)]\n",
        "  fold5 = data[(fold_size*4 + 1): size], target[(fold_size*4 + 1): size]\n",
        "  \n",
        "  return [fold1, fold2, fold3, fold4, fold5]"
      ],
      "execution_count": null,
      "outputs": []
    },
    {
      "cell_type": "code",
      "metadata": {
        "id": "UWxhfJ-qDZlN"
      },
      "source": [
        "#Will create our batches\n",
        "def batch_creator(data, batch_size, batch_num):\n",
        "  temp_images, temp_labels = data\n",
        "\n",
        "  start_index = batch_num*batch_size\n",
        "  end_index = start_index+batch_size\n",
        "\n",
        "  if end_index > len(temp_images)-1: end_index = len(temp_images)-1\n",
        "\n",
        "  return ((torch.as_tensor(temp_images[start_index:end_index])).unsqueeze(1), torch.as_tensor(temp_labels[start_index:end_index]))"
      ],
      "execution_count": null,
      "outputs": []
    },
    {
      "cell_type": "markdown",
      "metadata": {
        "id": "WbyHnPCGLh8f"
      },
      "source": [
        "The cell below combines the data produced by the segmentation functions into a single combined image and label array. You need to rerun this everytime you resegment the original data."
      ]
    },
    {
      "cell_type": "code",
      "metadata": {
        "id": "eoR5mi-vCxvO"
      },
      "source": [
        "#Lets set up our data first\n",
        "trainingData = []\n",
        "trainingLabels = []\n",
        "validationData = []\n",
        "validationLabels = []\n",
        "\n",
        "#Shuffle the dataset\n",
        "trainer_set_images, trainer_set_labels = shuffle(trainer_set_images, trainer_set_labels)\n",
        "\n",
        "#Will produce 5 folds\n",
        "dataFolds = crossValidationFold(trainer_set_images, trainer_set_labels)\n",
        "\n",
        "#Integer 0-4 which sets which fold will be validation fold. Our data is shuffled\n",
        "#so this does not affect randomness of data\n",
        "validationFold = 2\n",
        "validationData, validationLabels = dataFolds[validationFold]\n",
        "\n",
        "for j in range(5):\n",
        "  if validationFold != j:\n",
        "    tempData, tempTarget = dataFolds[j]\n",
        "\n",
        "    trainingData.extend(tempData)\n",
        "    trainingLabels.extend(tempTarget)\n",
        "\n",
        "trainer_set = (trainingData, trainingLabels)\n",
        "valid_set = (validationData, validationLabels)"
      ],
      "execution_count": null,
      "outputs": []
    },
    {
      "cell_type": "markdown",
      "metadata": {
        "id": "o68lH07AfhZb"
      },
      "source": [
        "#Neural Network"
      ]
    },
    {
      "cell_type": "code",
      "metadata": {
        "id": "1GpsF59rf64L"
      },
      "source": [
        "#This cell handles the training\n",
        "class Net(nn.Module):\n",
        "  def __init__(self):\n",
        "    #we can try this architecture from this article: https://towardsdatascience.com/mnist-handwritten-digits-classification-using-a-convolutional-neural-network-cnn-af5fafbc35e9\n",
        "    super(Net,self).__init__()\n",
        "    self.conv1 = nn.Conv2d(1, 32, 3, stride=1, padding=1)\n",
        "    self.conv2 = nn.Conv2d(32, 64, 3, stride=1, padding=1)\n",
        "    self.max_pool2d = nn.MaxPool2d(kernel_size=2, stride=2)\n",
        "    self.linear_1 = nn.Linear(7*7*64, 128)\n",
        "    self.linear_2 = nn.Linear(128, 11)\n",
        "    self.dropout = nn.Dropout(p=0.5)\n",
        "    self.relu = nn.ReLU()\n",
        "\n",
        "    # super(Net,self).__init__()\n",
        "    # self.conv1 = nn.Conv2d(1, 32, 3)\n",
        "    # self.conv2 = nn.Conv2d(32, 64, 3)\n",
        "    # self.conv3 = nn.Conv2d(64, 64, 3)\n",
        "    # self.conv4 = nn.Conv2d(64, 64, 3)\n",
        "    # self.fc1 = nn.Linear(4096, 11)\n",
        "\n",
        "  def forward(self, x):\n",
        "    x = self.conv1(x)\n",
        "    x = self.relu(x)\n",
        "    x = self.max_pool2d(x)\n",
        "    x = self.conv2(x)\n",
        "    x = self.relu(x)\n",
        "    x = self.max_pool2d(x)\n",
        "    x = x.reshape(x.size(0), -1)\n",
        "    x = self.linear_1(x)\n",
        "    x = self.relu(x)\n",
        "    x = self.dropout(x)\n",
        "    pred = self.linear_2(x)\n",
        "\n",
        "    return pred\n",
        "\n",
        "    # x = F.relu(self.conv1(x))\n",
        "    # x = F.relu(self.conv2(x))\n",
        "    # x = F.max_pool2d(x, (2,2))\n",
        "    # x = F.relu(self.conv3(x))\n",
        "    # x = F.relu(self.conv4(x))\n",
        "    # x = torch.flatten(x, 1, 3)\n",
        "    # x = self.fc1(x)\n",
        "    # return x\n",
        "\n",
        "net = Net()\n",
        "\n",
        "#Check if GPU is available\n",
        "device = torch.device(\"cuda:0\" if torch.cuda.is_available() else \"cpu\")\n",
        "net = net.to(device)\n",
        "\n",
        "# criterion = nn.CrossEntropyLoss()\n",
        "# optimizer = optim.SGD(net.parameters(), lr = 0.001)\n",
        "\n",
        "# batch_size = 32\n",
        "# #Given batch_size determine number of iterations\n",
        "# iterations = (int)((len(trainer_set[0]))/batch_size)\n",
        "\n",
        "# #Train the network now for 10 epoch\n",
        "# for epoch in range(10):\n",
        "\n",
        "#   running_loss = 0.0\n",
        "#   for i in range(iterations):\n",
        "#     inputs, labels = batch_creator(trainer_set, batch_size, batch_num=i)\n",
        "\n",
        "#     inputs = inputs.float()\n",
        "#     labels = labels.long()\n",
        "\n",
        "#     inputs = inputs.to(device)\n",
        "#     labels = labels.to(device)\n",
        "\n",
        "#     optimizer.zero_grad()\n",
        "\n",
        "#     outputs = net(inputs)\n",
        "#     loss = criterion(outputs, labels)\n",
        "#     loss.backward()\n",
        "#     optimizer.step()\n",
        "\n",
        "#     running_loss += loss.item()\n",
        "#     if i % 1000 == 999:    # print every 1000 mini-batches\n",
        "#       print('[%d, %5d] loss: %.3f' % (epoch + 1, i + 1, running_loss / 2000))\n",
        "#       running_loss = 0.0\n",
        "\n",
        "# print('Finished Training')\n",
        "\n",
        "# #Save the model\n",
        "# torch.save(net.state_dict(), './neural_net.pth')"
      ],
      "execution_count": null,
      "outputs": []
    },
    {
      "cell_type": "code",
      "metadata": {
        "id": "0H-kIrL_gCSf",
        "colab": {
          "base_uri": "https://localhost:8080/"
        },
        "outputId": "6067f548-fad1-4875-876d-48a97c061b4e"
      },
      "source": [
        "#Lets see how well we did\n",
        "# correct = 0\n",
        "# total = 0\n",
        "# batch_size = 32\n",
        "# iterations = (int)((len(valid_set[0]))/batch_size)\n",
        "\n",
        "# with torch.no_grad():\n",
        "#   net.eval()\n",
        "#   for i in range(iterations):\n",
        "#     inputs, labels = batch_creator(valid_set, batch_size, batch_num=i)\n",
        "\n",
        "#     inputs = inputs.float()\n",
        "#     labels = labels.long()\n",
        "    \n",
        "#     labels = labels.to(device)\n",
        "#     inputs = inputs.to(device)\n",
        "\n",
        "#     outputs = net(inputs)\n",
        "#     _, predicted = torch.max(outputs.data, 1)\n",
        "#     total += labels.size(0)\n",
        "#     correct += (predicted == labels).sum().item()\n",
        "\n",
        "# print(correct)\n",
        "# print(total)\n",
        "# print('Accuracy of the network on the test images: %d %%' % (100 * correct/total))"
      ],
      "execution_count": null,
      "outputs": [
        {
          "output_type": "stream",
          "text": [
            "33189\n",
            "33568\n",
            "Accuracy of the network on the test images: 98 %\n"
          ],
          "name": "stdout"
        }
      ]
    },
    {
      "cell_type": "markdown",
      "metadata": {
        "id": "KiaWy4UAKwfw"
      },
      "source": [
        "#New training method: one train-validation split \n",
        "\n",
        "CHECK MY NOTE ABOUT ROUNDING DOWN NUM ITERATIONS AND POTENTIALLY MISSING OUT ON A TRAINING BATCH "
      ]
    },
    {
      "cell_type": "code",
      "metadata": {
        "id": "iRPpQjitKvLv"
      },
      "source": [
        "#from above code splitting the data into trainer_set and validation_set, i can see that the training and validation data will be passed as a tuple of (samples, labels)\n",
        "def train(model, optimizer, trainer_set, validation_set, save_file_name, batch_size=128, max_epochs_stop = 5, num_epochs=30, print_every=2):\n",
        "  # Early stopping intialization\n",
        "  epochs_no_improve = 0\n",
        "  min_valid_loss = np.Inf\n",
        "  max_valid_acc = 0\n",
        "  best_epoch = 0\n",
        "  history = []\n",
        "\n",
        "  criterion = nn.CrossEntropyLoss()\n",
        "\n",
        "  for epoch in range(num_epochs):\n",
        "\n",
        "    # keeping track of training and validation loss and accuracy for each epoch to be added in history array \n",
        "    running_train_loss = 0.0\n",
        "    running_valid_loss = 0.0\n",
        "\n",
        "    running_train_acc = 0.0\n",
        "    running_valid_acc = 0.0\n",
        "\n",
        "    # Make sure to set model to training mode\n",
        "    model.train()\n",
        "\n",
        "    #Given batch_size determine number of iterations\n",
        "    iterations = (int)((len(trainer_set[0]))/batch_size) ## doesnt this round down? so if num iterations is 538.7 it will be 538, when really it should be 539 for the last batch of smaller size to go thru \n",
        "    \n",
        "    for i in range(iterations):\n",
        "      \n",
        "      # getting the training inputs and labels from the current batch\n",
        "      inputs, labels = batch_creator(trainer_set, batch_size, batch_num=i)\n",
        "\n",
        "      # getting them into the right datatypes\n",
        "      inputs = inputs.float()\n",
        "      labels = labels.long()\n",
        "\n",
        "      # getting them onto GPU \n",
        "      inputs = inputs.to(device)\n",
        "      labels = labels.to(device)\n",
        "\n",
        "      # clear gradients\n",
        "      optimizer.zero_grad()\n",
        "\n",
        "      outputs = net(inputs)\n",
        "      loss = criterion(outputs, labels)\n",
        "      loss.backward()\n",
        "      optimizer.step()\n",
        "\n",
        "      running_train_loss += loss.item() \n",
        "\n",
        "      _, predicted = torch.max(outputs.data, 1)\n",
        "      # inputs.shape[0] is the batch size\n",
        "      running_train_acc += (predicted == labels).sum().item()\n",
        "\n",
        "    # training for this epoch has ended, time to start validation for this epoch \n",
        "    with torch.no_grad():\n",
        "      # Set to evaluation mode\n",
        "      model.eval()\n",
        "\n",
        "      # Validation loop\n",
        "      iterations = (int)((len(validation_set[0]))/batch_size) ## doesnt this round down? so if num iterations is 538.7 it will be 538, when really it should be 539 for the last batch of smaller size to go thru \n",
        "      for i in range(iterations):\n",
        "        inputs, labels = batch_creator(validation_set, batch_size, batch_num=i)\n",
        "\n",
        "        # getting them into the right datatypes\n",
        "        inputs = inputs.float()\n",
        "        labels = labels.long()\n",
        "    \n",
        "        # getting them onto GPU \n",
        "        labels = labels.to(device)\n",
        "        inputs = inputs.to(device)\n",
        "\n",
        "        outputs = net(inputs)\n",
        "        _, predicted = torch.max(outputs.data, 1)\n",
        "\n",
        "        running_valid_loss += loss.item()\n",
        "        running_valid_acc += (predicted == labels).sum().item()\n",
        "\n",
        "    # Calculating Average Losses\n",
        "    running_train_loss = running_train_loss/len(trainer_set[0])\n",
        "    running_valid_loss = running_valid_loss/len(validation_set[0])\n",
        "\n",
        "    # Calculating Average Accuracies\n",
        "    running_train_acc = running_train_acc/len(trainer_set[0])\n",
        "    running_valid_acc = running_valid_acc/len(validation_set[0])\n",
        "\n",
        "    history.append([running_train_loss, running_valid_loss, running_train_acc, running_valid_acc])\n",
        "\n",
        "    # Print training and validation results\n",
        "    if (epoch + 1) % print_every == 0:\n",
        "      print(f'\\nEpoch: {epoch} \\tTraining Loss: {running_train_loss:.8f} \\tValidation Loss: {running_valid_loss:.8f}')\n",
        "      print(f'\\t\\tTraining Accuracy: {100 * running_train_acc:.2f}%\\t Validation Accuracy: {100 * running_valid_acc:.2f}%')\n",
        "\n",
        "    # Save the model if validation loss in this epoch decreases\n",
        "    if running_valid_loss < min_valid_loss:\n",
        "      # Save the model\n",
        "      print(\"..... Saving model .....\")\n",
        "      torch.save(model.state_dict(), save_file_name)\n",
        "      # Track improvement\n",
        "      epochs_no_improve = 0\n",
        "      min_valid_loss = running_valid_loss\n",
        "      max_valid_acc = running_valid_acc\n",
        "      best_epoch = epoch\n",
        "    # Otherwise increment count of epochs with no improvement in loss\n",
        "    else:\n",
        "      epochs_no_improve += 1\n",
        "      # Trigger early stopping\n",
        "      if epochs_no_improve >= max_epochs_stop:\n",
        "        print(f'\\nEarly Stopping! Total epochs: {epoch}. Best epoch: {best_epoch} with loss: {min_valid_loss:.2f} and acc: {100 * max_valid_acc:.2f}%')\n",
        "        # load the best state dict\n",
        "        model.load_state_dict(torch.load(save_file_name))\n",
        "        # Attach the optimizer\n",
        "        model.optimizer = optimizer\n",
        "\n",
        "        # Format history\n",
        "        history = pd.DataFrame(history, columns=['train_loss', 'valid_loss', 'train_acc', 'valid_acc'])\n",
        "        return model, history\n",
        "\n",
        "  # In case early stopping was not invoked, the last model you are on right now is the best model, so attach the optimizer     \n",
        "  model.optimizer = optimizer\n",
        "  print(f'\\nBest epoch: {best_epoch} with loss: {min_valid_loss:.2f} and acc: {100 * running_valid_acc:.2f}%')\n",
        "\n",
        "  history = pd.DataFrame(history, columns=['train_loss', 'valid_loss', 'train_acc', 'valid_acc'])\n",
        "  return model, history"
      ],
      "execution_count": null,
      "outputs": []
    },
    {
      "cell_type": "markdown",
      "metadata": {
        "id": "i6NM7To17nzz"
      },
      "source": [
        "Call New training method: "
      ]
    },
    {
      "cell_type": "code",
      "metadata": {
        "colab": {
          "base_uri": "https://localhost:8080/"
        },
        "id": "9tHpaHHP7naz",
        "outputId": "07b1f272-9e0a-4f79-c9b5-46cffe4b7cf5"
      },
      "source": [
        "optimizer = optim.SGD(net.parameters(), lr = 0.001, momentum=0.9)\n",
        "#optimizer = optim.Adam(net.parameters(), lr = 0.001)\n",
        "model, history = train(\n",
        "    net,\n",
        "    optimizer,\n",
        "    trainer_set,\n",
        "    valid_set,\n",
        "    save_file_name='best_model.pth',\n",
        "    batch_size=32,\n",
        "    max_epochs_stop=5,\n",
        "    num_epochs=50,\n",
        "    print_every=1)"
      ],
      "execution_count": null,
      "outputs": [
        {
          "output_type": "stream",
          "text": [
            "\n",
            "Epoch: 0 \tTraining Loss: 0.01219848 \tValidation Loss: 0.00336669\n",
            "\t\tTraining Accuracy: 88.51%\t Validation Accuracy: 95.77%\n",
            "..... Saving model .....\n",
            "\n",
            "Epoch: 1 \tTraining Loss: 0.00652319 \tValidation Loss: 0.00485568\n",
            "\t\tTraining Accuracy: 93.81%\t Validation Accuracy: 96.30%\n",
            "\n",
            "Epoch: 2 \tTraining Loss: 0.00546792 \tValidation Loss: 0.00166957\n",
            "\t\tTraining Accuracy: 94.75%\t Validation Accuracy: 96.62%\n",
            "..... Saving model .....\n",
            "\n",
            "Epoch: 3 \tTraining Loss: 0.00480238 \tValidation Loss: 0.00387378\n",
            "\t\tTraining Accuracy: 95.37%\t Validation Accuracy: 97.15%\n",
            "\n",
            "Epoch: 4 \tTraining Loss: 0.00434337 \tValidation Loss: 0.00025154\n",
            "\t\tTraining Accuracy: 95.72%\t Validation Accuracy: 97.22%\n",
            "..... Saving model .....\n",
            "\n",
            "Epoch: 5 \tTraining Loss: 0.00392048 \tValidation Loss: 0.00297137\n",
            "\t\tTraining Accuracy: 96.15%\t Validation Accuracy: 97.60%\n",
            "\n",
            "Epoch: 6 \tTraining Loss: 0.00364158 \tValidation Loss: 0.00088634\n",
            "\t\tTraining Accuracy: 96.35%\t Validation Accuracy: 97.58%\n",
            "\n",
            "Epoch: 7 \tTraining Loss: 0.00341633 \tValidation Loss: 0.00051930\n",
            "\t\tTraining Accuracy: 96.61%\t Validation Accuracy: 97.77%\n",
            "\n",
            "Epoch: 8 \tTraining Loss: 0.00322209 \tValidation Loss: 0.00436187\n",
            "\t\tTraining Accuracy: 96.72%\t Validation Accuracy: 97.58%\n",
            "\n",
            "Epoch: 9 \tTraining Loss: 0.00296519 \tValidation Loss: 0.00072811\n",
            "\t\tTraining Accuracy: 96.99%\t Validation Accuracy: 98.09%\n",
            "\n",
            "Early Stopping! Total epochs: 9. Best epoch: 4 with loss: 0.00 and acc: 97.22%\n"
          ],
          "name": "stdout"
        }
      ]
    },
    {
      "cell_type": "markdown",
      "metadata": {
        "id": "VVaDgFcb_-3N"
      },
      "source": [
        "#Plot Training and Validation Losses and Accuracies as a function of Epochs\n"
      ]
    },
    {
      "cell_type": "code",
      "metadata": {
        "id": "ov3Wf5XB_-hD",
        "colab": {
          "base_uri": "https://localhost:8080/",
          "height": 421
        },
        "outputId": "a7f3b3a8-b5d3-4ea3-adb9-a16e38c87754"
      },
      "source": [
        "plt.figure(figsize=(8,6))\n",
        "for c in ['train_loss', 'valid_loss']:\n",
        "  plt.plot(history[c], label=c)\n",
        "plt.legend()\n",
        "plt.xlabel('Epoch')\n",
        "plt.ylabel('Cross Entropy Loss')\n",
        "plt.title('Training and Validation Losses vs. Epochs')"
      ],
      "execution_count": null,
      "outputs": [
        {
          "output_type": "execute_result",
          "data": {
            "text/plain": [
              "Text(0.5, 1.0, 'Training and Validation Losses vs. Epochs')"
            ]
          },
          "metadata": {
            "tags": []
          },
          "execution_count": 23
        },
        {
          "output_type": "display_data",
          "data": {
            "image/png": "[encoded data removed]",
            "text/plain": [
              "<Figure size 576x432 with 1 Axes>"
            ]
          },
          "metadata": {
            "tags": [],
            "needs_background": "light"
          }
        }
      ]
    },
    {
      "cell_type": "code",
      "metadata": {
        "id": "IpUQv9KYAHU5",
        "colab": {
          "base_uri": "https://localhost:8080/",
          "height": 421
        },
        "outputId": "5647eb57-30ef-4908-a8ee-a403eaffe7fc"
      },
      "source": [
        "plt.figure(figsize=(8,6))\n",
        "for c in ['train_acc', 'valid_acc']:\n",
        "  plt.plot(history[c], label=c)\n",
        "plt.legend()\n",
        "plt.xlabel('Epoch')\n",
        "plt.ylabel('Average Accuracy')\n",
        "plt.title('Training and Validation Accuracies vs. Epochs')"
      ],
      "execution_count": null,
      "outputs": [
        {
          "output_type": "execute_result",
          "data": {
            "text/plain": [
              "Text(0.5, 1.0, 'Training and Validation Accuracies vs. Epochs')"
            ]
          },
          "metadata": {
            "tags": []
          },
          "execution_count": 24
        },
        {
          "output_type": "display_data",
          "data": {
            "image/png": "[encoded data removed]",
            "text/plain": [
              "<Figure size 576x432 with 1 Axes>"
            ]
          },
          "metadata": {
            "tags": [],
            "needs_background": "light"
          }
        }
      ]
    },
    {
      "cell_type": "markdown",
      "metadata": {
        "id": "7MqBHD3rO46S"
      },
      "source": [
        "#Generating predictions for the test dataset\n"
      ]
    },
    {
      "cell_type": "markdown",
      "metadata": {
        "id": "zQPK_POk8ETm"
      },
      "source": [
        "##Showing how to reorder labels to be in the proper positions when using the contour method as it does not spit the images back in order"
      ]
    },
    {
      "cell_type": "code",
      "metadata": {
        "colab": {
          "base_uri": "https://localhost:8080/",
          "height": 434
        },
        "id": "vEDUrclU9_u3",
        "outputId": "a62c2137-0084-40ad-d965-0d529ffeb634"
      },
      "source": [
        "#Code to look at specific images\n",
        "segmentedPics, positions, sign = imageSegmentTest(test_data[10], [0,1,2,3,4])\n",
        "print(str(len(segmentedPics)))\n",
        "print(positions)\n",
        "plt.imshow(test_data[10])\n",
        "plt.show()\n",
        "\n",
        "#Showing how to reorder everything since the segmentedpics function is not\n",
        "#gauranteed to return in order\n",
        "segmentedPics = reorder(segmentedPics, positions)\n",
        "\n",
        "for i in range(len(segmentedPics)):\n",
        "  plt.subplot(1,len(segmentedPics), i+1)\n",
        "  plt.imshow(segmentedPics[i])\n",
        "\n",
        "plt.show()"
      ],
      "execution_count": null,
      "outputs": [
        {
          "output_type": "stream",
          "text": [
            "3\n",
            "[2, 1, 0]\n"
          ],
          "name": "stdout"
        },
        {
          "output_type": "display_data",
          "data": {
            "image/png": "[encoded data removed]",
            "text/plain": [
              "<Figure size 432x288 with 1 Axes>"
            ]
          },
          "metadata": {
            "tags": [],
            "needs_background": "light"
          }
        },
        {
          "output_type": "display_data",
          "data": {
            "image/png": "[encoded data removed]",
            "text/plain": [
              "<Figure size 432x288 with 3 Axes>"
            ]
          },
          "metadata": {
            "tags": [],
            "needs_background": "light"
          }
        }
      ]
    },
    {
      "cell_type": "code",
      "metadata": {
        "id": "PSzURJgF3HYN"
      },
      "source": [
        "#Function to reorder the images back into the correct order after image segment -- NO LONGER USED DUE TO SEGMENT UPDATE\n",
        "def reorder(segmentedPics, positions):\n",
        "  fixedOrder = []\n",
        "  for i in range(len(segmentedPics)):\n",
        "    fixedOrder.append(segmentedPics[positions.index(i)])\n",
        "  \n",
        "  return fixedOrder"
      ],
      "execution_count": null,
      "outputs": []
    },
    {
      "cell_type": "markdown",
      "metadata": {
        "id": "ExD_JWDGATov"
      },
      "source": [
        "##Make sure here to call model.eval() for testing after you load the model from the file path"
      ]
    },
    {
      "cell_type": "code",
      "metadata": {
        "colab": {
          "base_uri": "https://localhost:8080/"
        },
        "id": "4qzg4PXbQahx",
        "outputId": "45068c67-b356-4792-fbd9-86ee1bc202ee"
      },
      "source": [
        "#This cell will generate the new test predicted labels\n",
        "\n",
        "#Create copy of NN and load trained params/weights\n",
        "testNet = Net()\n",
        "testNet.load_state_dict(torch.load('best_model.pth'))\n",
        "testNet.eval()\n",
        "\n",
        "#Load onto GPU\n",
        "testNet = testNet.to(device)\n",
        "\n",
        "#We will now be working with testData - 1400 64x64 images\n",
        "print(len(test_data))\n",
        "\n",
        "new_labels = []\n",
        "#Run through each image, segment it, convert it to tensor, and run it through the model\n",
        "for i in range(len(test_data)):\n",
        "  #Segment the pictures, reorder the output images to be in the order of the original image\n",
        "  #Even though our test data has no labels we pass in [0,1,2,3,4] for use in the reordering\n",
        "  #as imageSegmentTest does not necessarily return the digits in the same order as the \n",
        "  #they are original photo\n",
        "  segmentedPics, positions, sign = imageSegmentTest(test_data[i], [0,1,2,3,4])\n",
        "  segmentedPics = reorder(segmentedPics, positions)\n",
        "\n",
        "  #Convert the images to tensors\n",
        "  segmentedPics = (torch.as_tensor(segmentedPics)).unsqueeze(1)\n",
        "\n",
        "  #Generate model predictions\n",
        "  inputs = segmentedPics.float()\n",
        "  inputs = inputs.to(device)\n",
        "  \n",
        "  outputs = testNet(inputs)\n",
        "  _, predicted = torch.max(outputs.data, 1)\n",
        "\n",
        "  #Bring data back to CPU\n",
        "  predicted = predicted.cpu().numpy()\n",
        "\n",
        "  #If we only had 4 digits then predicted will have length 4. We need to then append the 10 for missing digits since\n",
        "  #label length must be 5  \n",
        "  numMissingLabels = 5 - len(predicted)\n",
        "\n",
        "  for j in range(numMissingLabels):\n",
        "    predicted = np.append(predicted, 10)\n",
        "\n",
        "  new_labels.append(predicted)\n",
        "\n",
        "print(str(len(new_labels)))"
      ],
      "execution_count": null,
      "outputs": [
        {
          "output_type": "stream",
          "text": [
            "14000\n",
            "14000\n"
          ],
          "name": "stdout"
        }
      ]
    },
    {
      "cell_type": "code",
      "metadata": {
        "id": "GncIOTH89dzV"
      },
      "source": [
        "#Write the predicted labels to a csv file\n",
        "with open('sample5.csv', mode='w') as csv_file:\n",
        "  fieldnames = ['Id', 'Label']\n",
        "  writer = csv.DictWriter(csv_file, fieldnames=fieldnames)\n",
        "  writer.writeheader()\n",
        "\n",
        "  for i in range(len(new_labels)):\n",
        "    stringLabel = \"\"+str(new_labels[i][0])+str(new_labels[i][1])+str(new_labels[i][2])+str(new_labels[i][3])+str(new_labels[i][4])\n",
        "    stringId = str(i)\n",
        "    writer.writerow({'Id': stringId, 'Label': stringLabel}) "
      ],
      "execution_count": null,
      "outputs": []
    },
    {
      "cell_type": "markdown",
      "metadata": {
        "id": "p2J0zyR-_WzG"
      },
      "source": [
        "#Resources to Understand CNNs: \n",
        "\n",
        "\n"
      ]
    },
    {
      "cell_type": "markdown",
      "metadata": {
        "id": "P4a3M8wLRaci"
      },
      "source": [
        "https://towardsdatascience.com/handwritten-digit-mnist-pytorch-977b5338e627\n",
        "https://towardsdatascience.com/a-beginners-guide-to-convolutional-neural-networks-cnns-14649dbddce8\n",
        "https://web.stanford.edu/class/cs231m/projects/final-report-yang-pu.pdf\n",
        "https://www.freecodecamp.org/news/an-intuitive-guide-to-convolutional-neural-networks-260c2de0a050/\n",
        "https://towardsdatascience.com/convolution-neural-networks-a-beginners-guide-implementing-a-mnist-hand-written-digit-8aa60330d022\n",
        "\n",
        "##Resources for Automatic Differentiation: \n",
        "https://github.com/jcjohnson/pytorch-examples\n",
        "\n",
        "https://medium.com/@ODSC/automatic-differentiation-in-pytorch-6131b4581cdf\n",
        "\n",
        "## Hyperparameter tuning:\n",
        "https://deeplizard.com/learn/video/ycxulUVoNbk\n",
        "\n",
        "https://medium.com/pytorch/accelerate-your-hyperparameter-optimization-with-pytorchs-ecosystem-tools-bc17001b9a49\n",
        "\n",
        "## Example of CNN code with original MNIST dataset\n",
        "https://nextjournal.com/gkoehler/pytorch-mnist"
      ]
    },
    {
      "cell_type": "markdown",
      "metadata": {
        "id": "ev4FRleY_0tE"
      },
      "source": [
        "## Implementing basic model \n",
        "\n",
        "## IMPORTANT RESOURCES I FOUND THAT SPLIT THE IMAGE INTO 5 SEP IMAGES OF 1 DIGIT EACH: \n",
        "https://www.ijert.org/research/multi-digit-number-classification-using-mnist-and-ann-IJERTV9IS050330.pdf?fbclid=IwAR2_FHiFJDuBEhrDNSixdKysoD2ZAKJEHk4zeQ_bGo3QnVznENCSCfbZKEs\n",
        "\n",
        "https://medium.com/@yash.kukreja.98/recognizing-handwritten-digits-in-real-life-images-using-cnn-3b48a9ae5e3\n"
      ]
    }
  ]
}